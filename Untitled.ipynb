{
 "cells": [
  {
   "cell_type": "code",
   "execution_count": 1,
   "metadata": {},
   "outputs": [],
   "source": [
    "%matplotlib inline\n",
    "import numpy as np\n",
    "import pandas as pd\n",
    "from data_prepare import *\n",
    "import matplotlib.pyplot as plt"
   ]
  },
  {
   "cell_type": "code",
   "execution_count": 2,
   "metadata": {},
   "outputs": [],
   "source": [
    "# market = pd.read_csv(\"~/cs_market.csv\", parse_dates=[\"date\"], dtype={\"code\": str})\n",
    "market = pd.read_csv(\"E:\\market_data/cs_market.csv\", parse_dates=[\"date\"], dtype={\"code\": str})\n",
    "all_ohlcv = market.drop([\"Unnamed: 0\", \"total_turnover\", \"limit_up\", \"limit_down\"], axis=1)\n",
    "all_ohlcv = all_ohlcv.set_index('date')\n",
    "ohlcv = all_ohlcv[all_ohlcv[\"code\"] == \"000725.XSHE\"].drop(\"code\", axis=1)"
   ]
  },
  {
   "cell_type": "code",
   "execution_count": 3,
   "metadata": {},
   "outputs": [
    {
     "data": {
      "text/html": [
       "<div>\n",
       "<style scoped>\n",
       "    .dataframe tbody tr th:only-of-type {\n",
       "        vertical-align: middle;\n",
       "    }\n",
       "\n",
       "    .dataframe tbody tr th {\n",
       "        vertical-align: top;\n",
       "    }\n",
       "\n",
       "    .dataframe thead th {\n",
       "        text-align: right;\n",
       "    }\n",
       "</style>\n",
       "<table border=\"1\" class=\"dataframe\">\n",
       "  <thead>\n",
       "    <tr style=\"text-align: right;\">\n",
       "      <th></th>\n",
       "      <th>open</th>\n",
       "      <th>close</th>\n",
       "      <th>high</th>\n",
       "      <th>low</th>\n",
       "      <th>volume</th>\n",
       "    </tr>\n",
       "    <tr>\n",
       "      <th>date</th>\n",
       "      <th></th>\n",
       "      <th></th>\n",
       "      <th></th>\n",
       "      <th></th>\n",
       "      <th></th>\n",
       "    </tr>\n",
       "  </thead>\n",
       "  <tbody>\n",
       "    <tr>\n",
       "      <th>2010-01-04</th>\n",
       "      <td>4.2751</td>\n",
       "      <td>4.2505</td>\n",
       "      <td>4.3408</td>\n",
       "      <td>4.1849</td>\n",
       "      <td>34826480.0</td>\n",
       "    </tr>\n",
       "    <tr>\n",
       "      <th>2010-01-05</th>\n",
       "      <td>4.2505</td>\n",
       "      <td>4.3572</td>\n",
       "      <td>4.3900</td>\n",
       "      <td>4.2423</td>\n",
       "      <td>68188433.0</td>\n",
       "    </tr>\n",
       "    <tr>\n",
       "      <th>2010-01-06</th>\n",
       "      <td>4.3654</td>\n",
       "      <td>4.3408</td>\n",
       "      <td>4.4228</td>\n",
       "      <td>4.3161</td>\n",
       "      <td>66340523.0</td>\n",
       "    </tr>\n",
       "    <tr>\n",
       "      <th>2010-01-07</th>\n",
       "      <td>4.3408</td>\n",
       "      <td>4.3326</td>\n",
       "      <td>4.4721</td>\n",
       "      <td>4.2505</td>\n",
       "      <td>72152689.0</td>\n",
       "    </tr>\n",
       "    <tr>\n",
       "      <th>2010-01-08</th>\n",
       "      <td>4.3654</td>\n",
       "      <td>4.4638</td>\n",
       "      <td>4.5377</td>\n",
       "      <td>4.2915</td>\n",
       "      <td>97726529.0</td>\n",
       "    </tr>\n",
       "  </tbody>\n",
       "</table>\n",
       "</div>"
      ],
      "text/plain": [
       "              open   close    high     low      volume\n",
       "date                                                  \n",
       "2010-01-04  4.2751  4.2505  4.3408  4.1849  34826480.0\n",
       "2010-01-05  4.2505  4.3572  4.3900  4.2423  68188433.0\n",
       "2010-01-06  4.3654  4.3408  4.4228  4.3161  66340523.0\n",
       "2010-01-07  4.3408  4.3326  4.4721  4.2505  72152689.0\n",
       "2010-01-08  4.3654  4.4638  4.5377  4.2915  97726529.0"
      ]
     },
     "execution_count": 3,
     "metadata": {},
     "output_type": "execute_result"
    }
   ],
   "source": [
    "ohlcv.head()"
   ]
  },
  {
   "cell_type": "code",
   "execution_count": 4,
   "metadata": {},
   "outputs": [],
   "source": [
    "data = construct_features(ohlcv, construct_features1)"
   ]
  },
  {
   "cell_type": "code",
   "execution_count": 5,
   "metadata": {},
   "outputs": [
    {
     "data": {
      "text/html": [
       "<div>\n",
       "<style scoped>\n",
       "    .dataframe tbody tr th:only-of-type {\n",
       "        vertical-align: middle;\n",
       "    }\n",
       "\n",
       "    .dataframe tbody tr th {\n",
       "        vertical-align: top;\n",
       "    }\n",
       "\n",
       "    .dataframe thead th {\n",
       "        text-align: right;\n",
       "    }\n",
       "</style>\n",
       "<table border=\"1\" class=\"dataframe\">\n",
       "  <thead>\n",
       "    <tr style=\"text-align: right;\">\n",
       "      <th></th>\n",
       "      <th>close</th>\n",
       "      <th>open_close</th>\n",
       "      <th>high_close</th>\n",
       "      <th>low_close</th>\n",
       "      <th>pct_chg</th>\n",
       "      <th>label</th>\n",
       "      <th>volume</th>\n",
       "    </tr>\n",
       "    <tr>\n",
       "      <th>date</th>\n",
       "      <th></th>\n",
       "      <th></th>\n",
       "      <th></th>\n",
       "      <th></th>\n",
       "      <th></th>\n",
       "      <th></th>\n",
       "      <th></th>\n",
       "    </tr>\n",
       "  </thead>\n",
       "  <tbody>\n",
       "    <tr>\n",
       "      <th>2010-01-04</th>\n",
       "      <td>4.2505</td>\n",
       "      <td>0.000000</td>\n",
       "      <td>0.000000</td>\n",
       "      <td>0.000000</td>\n",
       "      <td>0.000000</td>\n",
       "      <td>0</td>\n",
       "      <td>1.0</td>\n",
       "    </tr>\n",
       "    <tr>\n",
       "      <th>2010-01-05</th>\n",
       "      <td>4.3572</td>\n",
       "      <td>-2.510293</td>\n",
       "      <td>0.771674</td>\n",
       "      <td>-2.703211</td>\n",
       "      <td>2.510293</td>\n",
       "      <td>0</td>\n",
       "      <td>1.0</td>\n",
       "    </tr>\n",
       "    <tr>\n",
       "      <th>2010-01-06</th>\n",
       "      <td>4.3408</td>\n",
       "      <td>0.564583</td>\n",
       "      <td>1.881943</td>\n",
       "      <td>-0.566878</td>\n",
       "      <td>-0.376389</td>\n",
       "      <td>0</td>\n",
       "      <td>1.0</td>\n",
       "    </tr>\n",
       "    <tr>\n",
       "      <th>2010-01-07</th>\n",
       "      <td>4.3326</td>\n",
       "      <td>0.188905</td>\n",
       "      <td>3.213693</td>\n",
       "      <td>-1.891356</td>\n",
       "      <td>-0.188905</td>\n",
       "      <td>0</td>\n",
       "      <td>1.0</td>\n",
       "    </tr>\n",
       "    <tr>\n",
       "      <th>2010-01-08</th>\n",
       "      <td>4.4638</td>\n",
       "      <td>-2.271154</td>\n",
       "      <td>1.705673</td>\n",
       "      <td>-3.976827</td>\n",
       "      <td>3.028205</td>\n",
       "      <td>0</td>\n",
       "      <td>1.0</td>\n",
       "    </tr>\n",
       "  </tbody>\n",
       "</table>\n",
       "</div>"
      ],
      "text/plain": [
       "             close  open_close  high_close  low_close   pct_chg  label  volume\n",
       "date                                                                          \n",
       "2010-01-04  4.2505    0.000000    0.000000   0.000000  0.000000      0     1.0\n",
       "2010-01-05  4.3572   -2.510293    0.771674  -2.703211  2.510293      0     1.0\n",
       "2010-01-06  4.3408    0.564583    1.881943  -0.566878 -0.376389      0     1.0\n",
       "2010-01-07  4.3326    0.188905    3.213693  -1.891356 -0.188905      0     1.0\n",
       "2010-01-08  4.4638   -2.271154    1.705673  -3.976827  3.028205      0     1.0"
      ]
     },
     "execution_count": 5,
     "metadata": {},
     "output_type": "execute_result"
    }
   ],
   "source": [
    "data.head()"
   ]
  },
  {
   "cell_type": "code",
   "execution_count": 6,
   "metadata": {},
   "outputs": [],
   "source": [
    "result = data.reset_index().reset_index()"
   ]
  },
  {
   "cell_type": "code",
   "execution_count": 7,
   "metadata": {},
   "outputs": [
    {
     "data": {
      "text/html": [
       "<div>\n",
       "<style scoped>\n",
       "    .dataframe tbody tr th:only-of-type {\n",
       "        vertical-align: middle;\n",
       "    }\n",
       "\n",
       "    .dataframe tbody tr th {\n",
       "        vertical-align: top;\n",
       "    }\n",
       "\n",
       "    .dataframe thead th {\n",
       "        text-align: right;\n",
       "    }\n",
       "</style>\n",
       "<table border=\"1\" class=\"dataframe\">\n",
       "  <thead>\n",
       "    <tr style=\"text-align: right;\">\n",
       "      <th></th>\n",
       "      <th>index</th>\n",
       "      <th>date</th>\n",
       "      <th>close</th>\n",
       "      <th>open_close</th>\n",
       "      <th>high_close</th>\n",
       "      <th>low_close</th>\n",
       "      <th>pct_chg</th>\n",
       "      <th>label</th>\n",
       "      <th>volume</th>\n",
       "    </tr>\n",
       "  </thead>\n",
       "  <tbody>\n",
       "    <tr>\n",
       "      <th>1891</th>\n",
       "      <td>1891</td>\n",
       "      <td>2017-11-09</td>\n",
       "      <td>6.52</td>\n",
       "      <td>-1.708075</td>\n",
       "      <td>0.155280</td>\n",
       "      <td>-4.347826</td>\n",
       "      <td>1.242236</td>\n",
       "      <td>1</td>\n",
       "      <td>1.033337</td>\n",
       "    </tr>\n",
       "    <tr>\n",
       "      <th>1892</th>\n",
       "      <td>1892</td>\n",
       "      <td>2017-11-10</td>\n",
       "      <td>6.50</td>\n",
       "      <td>0.000000</td>\n",
       "      <td>1.840491</td>\n",
       "      <td>-1.073620</td>\n",
       "      <td>-0.306748</td>\n",
       "      <td>1</td>\n",
       "      <td>0.872688</td>\n",
       "    </tr>\n",
       "    <tr>\n",
       "      <th>1893</th>\n",
       "      <td>1893</td>\n",
       "      <td>2017-11-13</td>\n",
       "      <td>6.41</td>\n",
       "      <td>1.384615</td>\n",
       "      <td>3.538462</td>\n",
       "      <td>-0.769231</td>\n",
       "      <td>-1.384615</td>\n",
       "      <td>1</td>\n",
       "      <td>0.919822</td>\n",
       "    </tr>\n",
       "    <tr>\n",
       "      <th>1894</th>\n",
       "      <td>1894</td>\n",
       "      <td>2017-11-14</td>\n",
       "      <td>6.13</td>\n",
       "      <td>3.432137</td>\n",
       "      <td>4.680187</td>\n",
       "      <td>-0.468019</td>\n",
       "      <td>-4.368175</td>\n",
       "      <td>1</td>\n",
       "      <td>1.132756</td>\n",
       "    </tr>\n",
       "    <tr>\n",
       "      <th>1895</th>\n",
       "      <td>1895</td>\n",
       "      <td>2017-11-15</td>\n",
       "      <td>6.22</td>\n",
       "      <td>-0.815661</td>\n",
       "      <td>1.794454</td>\n",
       "      <td>-1.631321</td>\n",
       "      <td>1.468189</td>\n",
       "      <td>1</td>\n",
       "      <td>0.724893</td>\n",
       "    </tr>\n",
       "  </tbody>\n",
       "</table>\n",
       "</div>"
      ],
      "text/plain": [
       "      index       date  close  open_close  high_close  low_close   pct_chg  \\\n",
       "1891   1891 2017-11-09   6.52   -1.708075    0.155280  -4.347826  1.242236   \n",
       "1892   1892 2017-11-10   6.50    0.000000    1.840491  -1.073620 -0.306748   \n",
       "1893   1893 2017-11-13   6.41    1.384615    3.538462  -0.769231 -1.384615   \n",
       "1894   1894 2017-11-14   6.13    3.432137    4.680187  -0.468019 -4.368175   \n",
       "1895   1895 2017-11-15   6.22   -0.815661    1.794454  -1.631321  1.468189   \n",
       "\n",
       "      label    volume  \n",
       "1891      1  1.033337  \n",
       "1892      1  0.872688  \n",
       "1893      1  0.919822  \n",
       "1894      1  1.132756  \n",
       "1895      1  0.724893  "
      ]
     },
     "execution_count": 7,
     "metadata": {},
     "output_type": "execute_result"
    }
   ],
   "source": [
    "result.tail()"
   ]
  },
  {
   "cell_type": "code",
   "execution_count": 8,
   "metadata": {},
   "outputs": [
    {
     "data": {
      "text/plain": [
       "<matplotlib.axes._subplots.AxesSubplot at 0x1e180031dd8>"
      ]
     },
     "execution_count": 8,
     "metadata": {},
     "output_type": "execute_result"
    },
    {
     "data": {
      "image/png": "[encoded data removed]",
      "text/plain": [
       "<matplotlib.figure.Figure at 0x1e180031748>"
      ]
     },
     "metadata": {},
     "output_type": "display_data"
    }
   ],
   "source": [
    "fig, ax = plt.subplots(1, figsize=(21, 7))\n",
    "result.plot(x='index', y='close', figsize=(21, 7), ax=ax)\n",
    "result[result['label'] == 2].plot.scatter(x='index', y='close', s=30, c='r', figsize=(21, 7), ax=ax)\n",
    "result[result['label'] == 0].plot.scatter(x='index', y='close', s=30, c='g', figsize=(21, 7), ax=ax)\n",
    "result[result['label'] == 1].plot.scatter(x='index', y='close', s=30, c='b', figsize=(21, 7), ax=ax)"
   ]
  },
  {
   "cell_type": "code",
   "execution_count": 27,
   "metadata": {},
   "outputs": [],
   "source": [
    "result = data_split_by_sample(data, {\"train\": 3, \"validate\": 1, \"test\": 1}, 256)"
   ]
  },
  {
   "cell_type": "code",
   "execution_count": 28,
   "metadata": {},
   "outputs": [],
   "source": [
    "train = result['train']\n",
    "validate = result['validate']\n",
    "test = result['test']"
   ]
  },
  {
   "cell_type": "code",
   "execution_count": 29,
   "metadata": {},
   "outputs": [
    {
     "data": {
      "text/plain": [
       "1024"
      ]
     },
     "execution_count": 29,
     "metadata": {},
     "output_type": "execute_result"
    }
   ],
   "source": [
    "len(train)"
   ]
  },
  {
   "cell_type": "code",
   "execution_count": 30,
   "metadata": {},
   "outputs": [
    {
     "data": {
      "text/plain": [
       "256"
      ]
     },
     "execution_count": 30,
     "metadata": {},
     "output_type": "execute_result"
    }
   ],
   "source": [
    "len(validate)"
   ]
  },
  {
   "cell_type": "code",
   "execution_count": 31,
   "metadata": {},
   "outputs": [
    {
     "data": {
      "text/plain": [
       "256"
      ]
     },
     "execution_count": 31,
     "metadata": {},
     "output_type": "execute_result"
    }
   ],
   "source": [
    "len(test)"
   ]
  },
  {
   "cell_type": "code",
   "execution_count": 14,
   "metadata": {},
   "outputs": [
    {
     "data": {
      "text/plain": [
       "<matplotlib.axes._subplots.AxesSubplot at 0x1e1820b0940>"
      ]
     },
     "execution_count": 14,
     "metadata": {},
     "output_type": "execute_result"
    },
    {
     "data": {
      "image/png": "[encoded data removed]",
      "text/plain": [
       "<matplotlib.figure.Figure at 0x1e1800315f8>"
      ]
     },
     "metadata": {},
     "output_type": "display_data"
    }
   ],
   "source": [
    "train['close'].plot(figsize=(21, 7))\n",
    "validate['close'].plot(figsize=(21, 7))\n",
    "test['close'].plot(figsize=(21, 7))"
   ]
  },
  {
   "cell_type": "code",
   "execution_count": 15,
   "metadata": {},
   "outputs": [
    {
     "data": {
      "text/html": [
       "<div>\n",
       "<style scoped>\n",
       "    .dataframe tbody tr th:only-of-type {\n",
       "        vertical-align: middle;\n",
       "    }\n",
       "\n",
       "    .dataframe tbody tr th {\n",
       "        vertical-align: top;\n",
       "    }\n",
       "\n",
       "    .dataframe thead th {\n",
       "        text-align: right;\n",
       "    }\n",
       "</style>\n",
       "<table border=\"1\" class=\"dataframe\">\n",
       "  <thead>\n",
       "    <tr style=\"text-align: right;\">\n",
       "      <th></th>\n",
       "      <th>close</th>\n",
       "      <th>open_close</th>\n",
       "      <th>high_close</th>\n",
       "      <th>low_close</th>\n",
       "      <th>pct_chg</th>\n",
       "      <th>label</th>\n",
       "      <th>volume</th>\n",
       "    </tr>\n",
       "    <tr>\n",
       "      <th>date</th>\n",
       "      <th></th>\n",
       "      <th></th>\n",
       "      <th></th>\n",
       "      <th></th>\n",
       "      <th></th>\n",
       "      <th></th>\n",
       "      <th></th>\n",
       "    </tr>\n",
       "  </thead>\n",
       "  <tbody>\n",
       "    <tr>\n",
       "      <th>2010-01-04</th>\n",
       "      <td>4.2505</td>\n",
       "      <td>0.000000</td>\n",
       "      <td>0.000000</td>\n",
       "      <td>0.000000</td>\n",
       "      <td>0.000000</td>\n",
       "      <td>0</td>\n",
       "      <td>1.0</td>\n",
       "    </tr>\n",
       "    <tr>\n",
       "      <th>2010-01-05</th>\n",
       "      <td>4.3572</td>\n",
       "      <td>-2.510293</td>\n",
       "      <td>0.771674</td>\n",
       "      <td>-2.703211</td>\n",
       "      <td>2.510293</td>\n",
       "      <td>0</td>\n",
       "      <td>1.0</td>\n",
       "    </tr>\n",
       "    <tr>\n",
       "      <th>2010-01-06</th>\n",
       "      <td>4.3408</td>\n",
       "      <td>0.564583</td>\n",
       "      <td>1.881943</td>\n",
       "      <td>-0.566878</td>\n",
       "      <td>-0.376389</td>\n",
       "      <td>0</td>\n",
       "      <td>1.0</td>\n",
       "    </tr>\n",
       "    <tr>\n",
       "      <th>2010-01-07</th>\n",
       "      <td>4.3326</td>\n",
       "      <td>0.188905</td>\n",
       "      <td>3.213693</td>\n",
       "      <td>-1.891356</td>\n",
       "      <td>-0.188905</td>\n",
       "      <td>0</td>\n",
       "      <td>1.0</td>\n",
       "    </tr>\n",
       "    <tr>\n",
       "      <th>2010-01-08</th>\n",
       "      <td>4.4638</td>\n",
       "      <td>-2.271154</td>\n",
       "      <td>1.705673</td>\n",
       "      <td>-3.976827</td>\n",
       "      <td>3.028205</td>\n",
       "      <td>0</td>\n",
       "      <td>1.0</td>\n",
       "    </tr>\n",
       "  </tbody>\n",
       "</table>\n",
       "</div>"
      ],
      "text/plain": [
       "             close  open_close  high_close  low_close   pct_chg  label  volume\n",
       "date                                                                          \n",
       "2010-01-04  4.2505    0.000000    0.000000   0.000000  0.000000      0     1.0\n",
       "2010-01-05  4.3572   -2.510293    0.771674  -2.703211  2.510293      0     1.0\n",
       "2010-01-06  4.3408    0.564583    1.881943  -0.566878 -0.376389      0     1.0\n",
       "2010-01-07  4.3326    0.188905    3.213693  -1.891356 -0.188905      0     1.0\n",
       "2010-01-08  4.4638   -2.271154    1.705673  -3.976827  3.028205      0     1.0"
      ]
     },
     "execution_count": 15,
     "metadata": {},
     "output_type": "execute_result"
    }
   ],
   "source": [
    "train.head()"
   ]
  },
  {
   "cell_type": "code",
   "execution_count": 16,
   "metadata": {},
   "outputs": [
    {
     "data": {
      "text/plain": [
       "3"
      ]
     },
     "execution_count": 16,
     "metadata": {},
     "output_type": "execute_result"
    }
   ],
   "source": [
    "len(train['label'].unique())"
   ]
  },
  {
   "cell_type": "code",
   "execution_count": 17,
   "metadata": {},
   "outputs": [],
   "source": [
    "train_class = to_categorical(train.copy(), 'label', categorical_func_factory)"
   ]
  },
  {
   "cell_type": "code",
   "execution_count": 18,
   "metadata": {},
   "outputs": [
    {
     "data": {
      "text/html": [
       "<div>\n",
       "<style scoped>\n",
       "    .dataframe tbody tr th:only-of-type {\n",
       "        vertical-align: middle;\n",
       "    }\n",
       "\n",
       "    .dataframe tbody tr th {\n",
       "        vertical-align: top;\n",
       "    }\n",
       "\n",
       "    .dataframe thead th {\n",
       "        text-align: right;\n",
       "    }\n",
       "</style>\n",
       "<table border=\"1\" class=\"dataframe\">\n",
       "  <thead>\n",
       "    <tr style=\"text-align: right;\">\n",
       "      <th></th>\n",
       "      <th>close</th>\n",
       "      <th>open_close</th>\n",
       "      <th>high_close</th>\n",
       "      <th>low_close</th>\n",
       "      <th>pct_chg</th>\n",
       "      <th>label</th>\n",
       "      <th>volume</th>\n",
       "    </tr>\n",
       "    <tr>\n",
       "      <th>date</th>\n",
       "      <th></th>\n",
       "      <th></th>\n",
       "      <th></th>\n",
       "      <th></th>\n",
       "      <th></th>\n",
       "      <th></th>\n",
       "      <th></th>\n",
       "    </tr>\n",
       "  </thead>\n",
       "  <tbody>\n",
       "    <tr>\n",
       "      <th>2017-06-09</th>\n",
       "      <td>4.0192</td>\n",
       "      <td>-0.248151</td>\n",
       "      <td>0.746961</td>\n",
       "      <td>-1.243264</td>\n",
       "      <td>0.744454</td>\n",
       "      <td>[0.0, 0.0, 1.0]</td>\n",
       "      <td>0.852885</td>\n",
       "    </tr>\n",
       "    <tr>\n",
       "      <th>2017-06-12</th>\n",
       "      <td>3.9696</td>\n",
       "      <td>1.234076</td>\n",
       "      <td>1.975518</td>\n",
       "      <td>-0.492635</td>\n",
       "      <td>-1.234076</td>\n",
       "      <td>[0.0, 0.0, 1.0]</td>\n",
       "      <td>0.954376</td>\n",
       "    </tr>\n",
       "    <tr>\n",
       "      <th>2017-06-13</th>\n",
       "      <td>3.9696</td>\n",
       "      <td>0.000000</td>\n",
       "      <td>1.000101</td>\n",
       "      <td>-0.750705</td>\n",
       "      <td>0.000000</td>\n",
       "      <td>[0.0, 0.0, 1.0]</td>\n",
       "      <td>0.947996</td>\n",
       "    </tr>\n",
       "    <tr>\n",
       "      <th>2017-06-14</th>\n",
       "      <td>3.8704</td>\n",
       "      <td>2.249597</td>\n",
       "      <td>2.498992</td>\n",
       "      <td>-0.501310</td>\n",
       "      <td>-2.498992</td>\n",
       "      <td>[1.0, 0.0, 0.0]</td>\n",
       "      <td>1.261143</td>\n",
       "    </tr>\n",
       "    <tr>\n",
       "      <th>2017-06-15</th>\n",
       "      <td>3.8704</td>\n",
       "      <td>-0.255788</td>\n",
       "      <td>0.511575</td>\n",
       "      <td>-0.514159</td>\n",
       "      <td>0.000000</td>\n",
       "      <td>[1.0, 0.0, 0.0]</td>\n",
       "      <td>0.728706</td>\n",
       "    </tr>\n",
       "  </tbody>\n",
       "</table>\n",
       "</div>"
      ],
      "text/plain": [
       "             close  open_close  high_close  low_close   pct_chg  \\\n",
       "date                                                              \n",
       "2017-06-09  4.0192   -0.248151    0.746961  -1.243264  0.744454   \n",
       "2017-06-12  3.9696    1.234076    1.975518  -0.492635 -1.234076   \n",
       "2017-06-13  3.9696    0.000000    1.000101  -0.750705  0.000000   \n",
       "2017-06-14  3.8704    2.249597    2.498992  -0.501310 -2.498992   \n",
       "2017-06-15  3.8704   -0.255788    0.511575  -0.514159  0.000000   \n",
       "\n",
       "                      label    volume  \n",
       "date                                   \n",
       "2017-06-09  [0.0, 0.0, 1.0]  0.852885  \n",
       "2017-06-12  [0.0, 0.0, 1.0]  0.954376  \n",
       "2017-06-13  [0.0, 0.0, 1.0]  0.947996  \n",
       "2017-06-14  [1.0, 0.0, 0.0]  1.261143  \n",
       "2017-06-15  [1.0, 0.0, 0.0]  0.728706  "
      ]
     },
     "execution_count": 18,
     "metadata": {},
     "output_type": "execute_result"
    }
   ],
   "source": [
    "train_class.tail()"
   ]
  },
  {
   "cell_type": "code",
   "execution_count": 19,
   "metadata": {},
   "outputs": [
    {
     "data": {
      "text/html": [
       "<div>\n",
       "<style scoped>\n",
       "    .dataframe tbody tr th:only-of-type {\n",
       "        vertical-align: middle;\n",
       "    }\n",
       "\n",
       "    .dataframe tbody tr th {\n",
       "        vertical-align: top;\n",
       "    }\n",
       "\n",
       "    .dataframe thead th {\n",
       "        text-align: right;\n",
       "    }\n",
       "</style>\n",
       "<table border=\"1\" class=\"dataframe\">\n",
       "  <thead>\n",
       "    <tr style=\"text-align: right;\">\n",
       "      <th></th>\n",
       "      <th>close</th>\n",
       "      <th>open_close</th>\n",
       "      <th>high_close</th>\n",
       "      <th>low_close</th>\n",
       "      <th>pct_chg</th>\n",
       "      <th>label</th>\n",
       "      <th>volume</th>\n",
       "    </tr>\n",
       "    <tr>\n",
       "      <th>date</th>\n",
       "      <th></th>\n",
       "      <th></th>\n",
       "      <th></th>\n",
       "      <th></th>\n",
       "      <th></th>\n",
       "      <th></th>\n",
       "      <th></th>\n",
       "    </tr>\n",
       "  </thead>\n",
       "  <tbody>\n",
       "    <tr>\n",
       "      <th>2017-06-09</th>\n",
       "      <td>4.0192</td>\n",
       "      <td>-0.248151</td>\n",
       "      <td>0.746961</td>\n",
       "      <td>-1.243264</td>\n",
       "      <td>0.744454</td>\n",
       "      <td>2</td>\n",
       "      <td>0.852885</td>\n",
       "    </tr>\n",
       "    <tr>\n",
       "      <th>2017-06-12</th>\n",
       "      <td>3.9696</td>\n",
       "      <td>1.234076</td>\n",
       "      <td>1.975518</td>\n",
       "      <td>-0.492635</td>\n",
       "      <td>-1.234076</td>\n",
       "      <td>2</td>\n",
       "      <td>0.954376</td>\n",
       "    </tr>\n",
       "    <tr>\n",
       "      <th>2017-06-13</th>\n",
       "      <td>3.9696</td>\n",
       "      <td>0.000000</td>\n",
       "      <td>1.000101</td>\n",
       "      <td>-0.750705</td>\n",
       "      <td>0.000000</td>\n",
       "      <td>2</td>\n",
       "      <td>0.947996</td>\n",
       "    </tr>\n",
       "    <tr>\n",
       "      <th>2017-06-14</th>\n",
       "      <td>3.8704</td>\n",
       "      <td>2.249597</td>\n",
       "      <td>2.498992</td>\n",
       "      <td>-0.501310</td>\n",
       "      <td>-2.498992</td>\n",
       "      <td>0</td>\n",
       "      <td>1.261143</td>\n",
       "    </tr>\n",
       "    <tr>\n",
       "      <th>2017-06-15</th>\n",
       "      <td>3.8704</td>\n",
       "      <td>-0.255788</td>\n",
       "      <td>0.511575</td>\n",
       "      <td>-0.514159</td>\n",
       "      <td>0.000000</td>\n",
       "      <td>0</td>\n",
       "      <td>0.728706</td>\n",
       "    </tr>\n",
       "  </tbody>\n",
       "</table>\n",
       "</div>"
      ],
      "text/plain": [
       "             close  open_close  high_close  low_close   pct_chg  label  \\\n",
       "date                                                                     \n",
       "2017-06-09  4.0192   -0.248151    0.746961  -1.243264  0.744454      2   \n",
       "2017-06-12  3.9696    1.234076    1.975518  -0.492635 -1.234076      2   \n",
       "2017-06-13  3.9696    0.000000    1.000101  -0.750705  0.000000      2   \n",
       "2017-06-14  3.8704    2.249597    2.498992  -0.501310 -2.498992      0   \n",
       "2017-06-15  3.8704   -0.255788    0.511575  -0.514159  0.000000      0   \n",
       "\n",
       "              volume  \n",
       "date                  \n",
       "2017-06-09  0.852885  \n",
       "2017-06-12  0.954376  \n",
       "2017-06-13  0.947996  \n",
       "2017-06-14  1.261143  \n",
       "2017-06-15  0.728706  "
      ]
     },
     "execution_count": 19,
     "metadata": {},
     "output_type": "execute_result"
    }
   ],
   "source": [
    "train.tail()"
   ]
  },
  {
   "cell_type": "code",
   "execution_count": 20,
   "metadata": {},
   "outputs": [],
   "source": [
    "X, Y = reform_X_Y(train_class, 8, 16)"
   ]
  },
  {
   "cell_type": "code",
   "execution_count": 22,
   "metadata": {},
   "outputs": [
    {
     "data": {
      "text/plain": [
       "(64, 16, 6)"
      ]
     },
     "execution_count": 22,
     "metadata": {},
     "output_type": "execute_result"
    }
   ],
   "source": [
    "X.shape"
   ]
  },
  {
   "cell_type": "code",
   "execution_count": 26,
   "metadata": {},
   "outputs": [
    {
     "data": {
      "text/plain": [
       "3"
      ]
     },
     "execution_count": 26,
     "metadata": {},
     "output_type": "execute_result"
    }
   ],
   "source": [
    "Y.shape[-1]"
   ]
  },
  {
   "cell_type": "code",
   "execution_count": null,
   "metadata": {},
   "outputs": [],
   "source": [
    "np.array([np.array([1.0, 2.0, 3.0])])"
   ]
  },
  {
   "cell_type": "code",
   "execution_count": 34,
   "metadata": {},
   "outputs": [
    {
     "data": {
      "text/plain": [
       "date\n",
       "2010-01-04    4.2505\n",
       "2010-01-05    4.3572\n",
       "2010-01-06    4.3408\n",
       "2010-01-07    4.3326\n",
       "2010-01-08    4.4638\n",
       "Name: close, dtype: float64"
      ]
     },
     "execution_count": 34,
     "metadata": {},
     "output_type": "execute_result"
    }
   ],
   "source": [
    "train_class['close'].head()"
   ]
  },
  {
   "cell_type": "code",
   "execution_count": 47,
   "metadata": {},
   "outputs": [
    {
     "data": {
      "text/plain": [
       "date\n",
       "2010-01-04    2.5519\n",
       "2010-01-05    2.8284\n",
       "2010-01-06    4.1750\n",
       "2010-01-07    2.1072\n",
       "2010-01-08    3.8566\n",
       "Name: close, dtype: float64"
      ]
     },
     "execution_count": 47,
     "metadata": {},
     "output_type": "execute_result"
    }
   ],
   "source": [
    "train_class['close'].head()"
   ]
  },
  {
   "cell_type": "code",
   "execution_count": 40,
   "metadata": {},
   "outputs": [],
   "source": [
    "np.random.shuffle(train_class['close'].copy())"
   ]
  },
  {
   "cell_type": "code",
   "execution_count": 46,
   "metadata": {},
   "outputs": [],
   "source": [
    "np.random.shuffle(train_class['close'].values)"
   ]
  },
  {
   "cell_type": "code",
   "execution_count": null,
   "metadata": {},
   "outputs": [],
   "source": []
  }
 ],
 "metadata": {
  "kernelspec": {
   "display_name": "Python 3",
   "language": "python",
   "name": "python3"
  },
  "language_info": {
   "codemirror_mode": {
    "name": "ipython",
    "version": 3
   },
   "file_extension": ".py",
   "mimetype": "text/x-python",
   "name": "python",
   "nbconvert_exporter": "python",
   "pygments_lexer": "ipython3",
   "version": "3.6.3"
  }
 },
 "nbformat": 4,
 "nbformat_minor": 2
}
